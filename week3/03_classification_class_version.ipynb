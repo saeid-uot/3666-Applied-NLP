{
  "nbformat": 4,
  "nbformat_minor": 0,
  "metadata": {
    "colab": {
      "name": "03_classification_class_version.ipynb",
      "provenance": [],
      "collapsed_sections": [
        "k2DcUFRMh44T",
        "ZsTw17XKh_4f",
        "IOZy_2_YiqHr",
        "s4WEnUl2elHO",
        "934AgKnXPTTS",
        "_tLGlmRySWiT",
        "Ojs9BVsBPtpO",
        "qcvFj0dQsRo5",
        "E6MiRIj48gp-",
        "aXiPSNZa0U7Q",
        "p-0rop3R1aYm",
        "kZIPoibm1dgk",
        "bbQVktKM1ga0",
        "pwm_qIKF1u_r",
        "7q9XobEU2Rw_",
        "2ExQNmdfelIj",
        "7s2eSzdJelI3"
      ],
      "include_colab_link": true
    },
    "kernelspec": {
      "display_name": "Python 3",
      "language": "python",
      "name": "python3"
    }
  },
  "cells": [
    {
      "cell_type": "markdown",
      "metadata": {
        "id": "view-in-github",
        "colab_type": "text"
      },
      "source": [
        "<a href=\"https://colab.research.google.com/github/saeid-uot/3666-Applied-NLP/blob/main/week3/03_classification_class_version.ipynb\" target=\"_parent\"><img src=\"https://colab.research.google.com/assets/colab-badge.svg\" alt=\"Open In Colab\"/></a>"
      ]
    },
    {
      "cell_type": "markdown",
      "metadata": {
        "id": "NXzM8E-PelGa"
      },
      "source": [
        "**Week 3 – Classification**"
      ]
    },
    {
      "cell_type": "markdown",
      "metadata": {
        "id": "aksg23xCelGd"
      },
      "source": [
        "# Setup"
      ]
    },
    {
      "cell_type": "markdown",
      "metadata": {
        "id": "PK3a3ys5elGe"
      },
      "source": [
        "First, let's make sure this notebook works well in both python 2 and 3, import a few common modules, ensure MatplotLib plots figures inline and prepare a function to save the figures:"
      ]
    },
    {
      "cell_type": "code",
      "metadata": {
        "id": "-cSh87H_elGf",
        "cellView": "both"
      },
      "source": [
        "# #@title\n",
        "# # To support both python 2 and python 3\n",
        "# from __future__ import division, print_function, unicode_literals\n",
        "\n",
        "# # Common imports\n",
        "# import numpy as np\n",
        "# import os\n",
        "\n",
        "# # to make this notebook's output stable across runs\n",
        "# np.random.seed(42)\n",
        "\n",
        "# # To plot pretty figures\n",
        "# %matplotlib inline\n",
        "# import matplotlib as mpl\n",
        "# import matplotlib.pyplot as plt\n",
        "# mpl.rc('axes', labelsize=14)\n",
        "# mpl.rc('xtick', labelsize=12)\n",
        "# mpl.rc('ytick', labelsize=12)\n",
        "\n",
        "# # Where to save the figures\n",
        "# PROJECT_ROOT_DIR = \".\"\n",
        "# CHAPTER_ID = \"classification\"\n",
        "\n",
        "# def save_fig(fig_id, tight_layout=True):\n",
        "#     path = os.path.join(PROJECT_ROOT_DIR, \"images\", CHAPTER_ID, fig_id + \".png\")\n",
        "#     print(\"Saving figure\", fig_id)\n",
        "#     if tight_layout:\n",
        "#         plt.tight_layout()\n",
        "#     plt.savefig(path, format='png', dpi=300)"
      ],
      "execution_count": null,
      "outputs": []
    },
    {
      "cell_type": "markdown",
      "metadata": {
        "id": "g_4P0FMLelGj"
      },
      "source": [
        "# MNIST"
      ]
    },
    {
      "cell_type": "markdown",
      "metadata": {
        "id": "f_AYEGmmelGj"
      },
      "source": [
        "The MNIST database of handwritten digits, available from this page, has a training set of 60,000 examples, and a test set of 10,000 examples. It is a subset of a larger set available from NIST. The digits have been size-normalized and centered in a fixed-size image.\n",
        "\n",
        "Learn more about the dataset [here](http://yann.lecun.com/exdb/mnist/).\n",
        "\n",
        "<img src = \"https://drive.google.com/uc?id=100v43llJaBhmDze48CCTwBeZj3HCRI-J\" alt=\"OpenML\" height=\"420\" width=\"720\" align=\"middle\">\n",
        "\n",
        "Learn more about [OpenML](https://www.openml.org/).\n"
      ]
    },
    {
      "cell_type": "code",
      "metadata": {
        "id": "Q7nDMwlhelGn",
        "colab": {
          "base_uri": "https://localhost:8080/",
          "height": 153
        },
        "outputId": "2de1b927-1d80-4d6f-ea28-49fc6af12a74"
      },
      "source": [
        "from sklearn.datasets import fetch_openml\n",
        "import numpy as np\n",
        "\n",
        "import matplotlib.pyplot as plt\n",
        "import matplotlib as mpl\n",
        "\n",
        "mnist = fetch_openml('mnist_784', version=1, cache=True)\n",
        "mnist.target = mnist.target.astype(np.int8) # fetch_openml() returns targets as strings\n",
        "\n",
        "mnist[\"data\"], mnist[\"target\"]"
      ],
      "execution_count": null,
      "outputs": [
        {
          "output_type": "execute_result",
          "data": {
            "text/plain": [
              "(array([[0., 0., 0., ..., 0., 0., 0.],\n",
              "        [0., 0., 0., ..., 0., 0., 0.],\n",
              "        [0., 0., 0., ..., 0., 0., 0.],\n",
              "        ...,\n",
              "        [0., 0., 0., ..., 0., 0., 0.],\n",
              "        [0., 0., 0., ..., 0., 0., 0.],\n",
              "        [0., 0., 0., ..., 0., 0., 0.]]),\n",
              " array([5, 0, 4, ..., 4, 5, 6], dtype=int8))"
            ]
          },
          "metadata": {
            "tags": []
          },
          "execution_count": 71
        }
      ]
    },
    {
      "cell_type": "markdown",
      "metadata": {
        "id": "8RcBgP3JfPWT"
      },
      "source": [
        "# What type of data object is MNIST?"
      ]
    },
    {
      "cell_type": "code",
      "metadata": {
        "id": "u-9Gn_A7fSzr",
        "colab": {
          "base_uri": "https://localhost:8080/",
          "height": 34
        },
        "outputId": "b3e777e5-1b8b-49c0-b879-d549d8f060b7"
      },
      "source": [
        "# How do you know? What funtion/method would tell us the type of an object? Try describe, show, try, learn, type and see which one works!\n",
        "type(mnist)"
      ],
      "execution_count": null,
      "outputs": [
        {
          "output_type": "execute_result",
          "data": {
            "text/plain": [
              "sklearn.utils.Bunch"
            ]
          },
          "metadata": {
            "tags": []
          },
          "execution_count": 72
        }
      ]
    },
    {
      "cell_type": "markdown",
      "metadata": {
        "id": "RpEdB7vrfec9"
      },
      "source": [
        "## What is MNIST data shape/dimension?"
      ]
    },
    {
      "cell_type": "code",
      "metadata": {
        "id": "Kwx5BbqZelGs",
        "colab": {
          "base_uri": "https://localhost:8080/",
          "height": 51
        },
        "outputId": "5b5f1e0d-c79c-4166-e3d7-08063ad948a2"
      },
      "source": [
        "#mnist.data is a numpy array\n",
        "print(type(mnist.data))\n",
        "\n",
        "#use shape to see shape of a numpy array\n",
        "mnist.data.shape"
      ],
      "execution_count": null,
      "outputs": [
        {
          "output_type": "stream",
          "text": [
            "<class 'numpy.ndarray'>\n"
          ],
          "name": "stdout"
        },
        {
          "output_type": "execute_result",
          "data": {
            "text/plain": [
              "(70000, 784)"
            ]
          },
          "metadata": {
            "tags": []
          },
          "execution_count": 73
        }
      ]
    },
    {
      "cell_type": "code",
      "metadata": {
        "id": "2kL8wXDYelGv",
        "colab": {
          "base_uri": "https://localhost:8080/",
          "height": 34
        },
        "outputId": "dddbd90c-6df4-4fce-9918-a460aabac705"
      },
      "source": [
        "X, y = mnist[\"data\"], mnist[\"target\"]\n",
        "X.shape"
      ],
      "execution_count": null,
      "outputs": [
        {
          "output_type": "execute_result",
          "data": {
            "text/plain": [
              "(70000, 784)"
            ]
          },
          "metadata": {
            "tags": []
          },
          "execution_count": 74
        }
      ]
    },
    {
      "cell_type": "code",
      "metadata": {
        "id": "RPSvHTmfelGy",
        "colab": {
          "base_uri": "https://localhost:8080/",
          "height": 34
        },
        "outputId": "ca70f79d-2024-41ed-c1c5-1e9557d2f611"
      },
      "source": [
        "y.shape"
      ],
      "execution_count": null,
      "outputs": [
        {
          "output_type": "execute_result",
          "data": {
            "text/plain": [
              "(70000,)"
            ]
          },
          "metadata": {
            "tags": []
          },
          "execution_count": 75
        }
      ]
    },
    {
      "cell_type": "code",
      "metadata": {
        "id": "8FpzwFbaelG1",
        "colab": {
          "base_uri": "https://localhost:8080/",
          "height": 34
        },
        "outputId": "c97bedee-3d47-4994-d644-afb55042b5d2"
      },
      "source": [
        "28*28"
      ],
      "execution_count": null,
      "outputs": [
        {
          "output_type": "execute_result",
          "data": {
            "text/plain": [
              "784"
            ]
          },
          "metadata": {
            "tags": []
          },
          "execution_count": 76
        }
      ]
    },
    {
      "cell_type": "markdown",
      "metadata": {
        "id": "fZ3vpPS9gA3G"
      },
      "source": [
        "## Lets take a look at example of handwritings!"
      ]
    },
    {
      "cell_type": "code",
      "metadata": {
        "id": "4v_nNyEQelG_"
      },
      "source": [
        "# Define a function to plot image\n",
        "def plot_digit(data):\n",
        "    image = data.reshape(28, 28)\n",
        "    plt.imshow(image, cmap = mpl.cm.binary,#mlp (matplotlib)\n",
        "               interpolation=\"nearest\")\n",
        "    plt.axis(\"off\")"
      ],
      "execution_count": null,
      "outputs": []
    },
    {
      "cell_type": "code",
      "metadata": {
        "id": "8IAg-o-ghc6A",
        "colab": {
          "base_uri": "https://localhost:8080/",
          "height": 248
        },
        "outputId": "ea017bef-9b08-4815-d51d-9969dddf3b4d"
      },
      "source": [
        "import matplotlib.pyplot as plt\n",
        "import matplotlib as mpl\n",
        "\n",
        "some_digit = X[7655-1] # Index can be between 0 to 69999!\n",
        "plot_digit(some_digit)"
      ],
      "execution_count": null,
      "outputs": [
        {
          "output_type": "display_data",
          "data": {
            "image/png": "[encoded data removed]",
            "text/plain": [
              "<Figure size 432x288 with 1 Axes>"
            ]
          },
          "metadata": {
            "tags": [],
            "needs_background": "light"
          }
        }
      ]
    },
    {
      "cell_type": "markdown",
      "metadata": {
        "id": "k2DcUFRMh44T"
      },
      "source": [
        "# Lets see content of target variable"
      ]
    },
    {
      "cell_type": "code",
      "metadata": {
        "id": "7wxQHJQ_elHH",
        "colab": {
          "base_uri": "https://localhost:8080/",
          "height": 34
        },
        "outputId": "c2824167-d6c2-4928-bb71-cbdbe083e266"
      },
      "source": [
        "y[7655-1]"
      ],
      "execution_count": null,
      "outputs": [
        {
          "output_type": "execute_result",
          "data": {
            "text/plain": [
              "2"
            ]
          },
          "metadata": {
            "tags": []
          },
          "execution_count": 10
        }
      ]
    },
    {
      "cell_type": "markdown",
      "metadata": {
        "id": "ZsTw17XKh_4f"
      },
      "source": [
        "# Split dataset to train and test"
      ]
    },
    {
      "cell_type": "code",
      "metadata": {
        "id": "aFUh14s2elHJ"
      },
      "source": [
        "# Write a code to split your dataset into 80/20 dataset\n",
        "from sklearn.model_selection import train_test_split\n",
        "\n",
        "X_train, X_test, y_train, y_test = train_test_split(X,y,test_size= 0.2)\n",
        "#X_train, X_test, y_train, y_test =  X[:60000], X[60000:], y[:60000], y[60000:]\n"
      ],
      "execution_count": null,
      "outputs": []
    },
    {
      "cell_type": "markdown",
      "metadata": {
        "id": "IOZy_2_YiqHr"
      },
      "source": [
        "### Verify data dimension"
      ]
    },
    {
      "cell_type": "code",
      "metadata": {
        "id": "76xI13IDelHM",
        "colab": {
          "base_uri": "https://localhost:8080/",
          "height": 34
        },
        "outputId": "f6038b8f-1bc7-42f1-ddc7-9fcb2c11888c"
      },
      "source": [
        "X_train.shape, X_test.shape, y_train.shape, y_test.shape\n"
      ],
      "execution_count": null,
      "outputs": [
        {
          "output_type": "execute_result",
          "data": {
            "text/plain": [
              "((56000, 784), (14000, 784), (56000,), (14000,))"
            ]
          },
          "metadata": {
            "tags": []
          },
          "execution_count": 82
        }
      ]
    },
    {
      "cell_type": "markdown",
      "metadata": {
        "id": "s4WEnUl2elHO"
      },
      "source": [
        "# Binary classifier\n",
        "\n",
        "###Predict if an image is 5 or not."
      ]
    },
    {
      "cell_type": "code",
      "metadata": {
        "id": "ICnhpmF1elHP"
      },
      "source": [
        "# if y_train value equals 5, it replaces it with true otherwise false\n",
        "y_train_5 = (y_train == 5)\n",
        "y_test_5 = (y_test == 5)"
      ],
      "execution_count": null,
      "outputs": []
    },
    {
      "cell_type": "code",
      "metadata": {
        "id": "VmMxpIiPTFAx",
        "colab": {
          "base_uri": "https://localhost:8080/",
          "height": 34
        },
        "outputId": "255d884b-acf3-4dd9-e313-c48e1fabfa84"
      },
      "source": [
        "y_train_5.shape"
      ],
      "execution_count": null,
      "outputs": [
        {
          "output_type": "execute_result",
          "data": {
            "text/plain": [
              "(56000,)"
            ]
          },
          "metadata": {
            "tags": []
          },
          "execution_count": 84
        }
      ]
    },
    {
      "cell_type": "markdown",
      "metadata": {
        "id": "IvLrlO2helHR"
      },
      "source": [
        "**Note**: a few hyperparameters will have a different default value in future versions of Scikit-Learn, so a warning is issued if you do not set them explicitly. This is why we set `max_iter=5` and `tol=-np.infty`, to get the same results as in the book, while avoiding the warnings."
      ]
    },
    {
      "cell_type": "code",
      "metadata": {
        "id": "eeshrrZpelHT",
        "colab": {
          "base_uri": "https://localhost:8080/",
          "height": 119
        },
        "outputId": "5d867d5f-ed58-48f7-f798-10fd3af1cd2e"
      },
      "source": [
        "from sklearn.linear_model import SGDClassifier\n",
        "\n",
        "#sgd stands for stochastic gradient descent (read more about GSD https://medium.com/@lachlanmiller_52885/machine-learning-week-1-cost-function-gradient-descent-and-univariate-linear-regression-8f5fe69815fd)\n",
        "#clf stands for classifier\n",
        "sgd_clf = SGDClassifier(max_iter=5, tol=-np.infty, random_state=42)\n",
        "sgd_clf.fit(X_train, y_train_5)\n"
      ],
      "execution_count": null,
      "outputs": [
        {
          "output_type": "execute_result",
          "data": {
            "text/plain": [
              "SGDClassifier(alpha=0.0001, average=False, class_weight=None,\n",
              "              early_stopping=False, epsilon=0.1, eta0=0.0, fit_intercept=True,\n",
              "              l1_ratio=0.15, learning_rate='optimal', loss='hinge', max_iter=5,\n",
              "              n_iter_no_change=5, n_jobs=None, penalty='l2', power_t=0.5,\n",
              "              random_state=42, shuffle=True, tol=-inf, validation_fraction=0.1,\n",
              "              verbose=0, warm_start=False)"
            ]
          },
          "metadata": {
            "tags": []
          },
          "execution_count": 85
        }
      ]
    },
    {
      "cell_type": "markdown",
      "metadata": {
        "id": "934AgKnXPTTS"
      },
      "source": [
        "### We just built a model. Now lets pass a single image to it and see the response"
      ]
    },
    {
      "cell_type": "code",
      "metadata": {
        "id": "M5zk1WVUOm3J",
        "colab": {
          "base_uri": "https://localhost:8080/",
          "height": 986
        },
        "outputId": "ca7346cd-4157-4dd2-8f6d-fcbb75b9ee3b"
      },
      "source": [
        "# See the value of 11th image and corresponding label\n",
        "print(y_train_5[11])\n",
        "print(X[11])"
      ],
      "execution_count": null,
      "outputs": [
        {
          "output_type": "stream",
          "text": [
            "True\n",
            "[  0.   0.   0.   0.   0.   0.   0.   0.   0.   0.   0.   0.   0.   0.\n",
            "   0.   0.   0.   0.   0.   0.   0.   0.   0.   0.   0.   0.   0.   0.\n",
            "   0.   0.   0.   0.   0.   0.   0.   0.   0.   0.   0.   0.   0.   0.\n",
            "   0.   0.   0.   0.   0.   0.   0.   0.   0.   0.   0.   0.   0.   0.\n",
            "   0.   0.   0.   0.   0.   0.   0.   0.   0.   0.   0.   0.   0.   0.\n",
            "   0.   0.   0.   0.   0.   0.   0.   0.   0.   0.   0.   0.   0.   0.\n",
            "   0.   0.   0.   0.   0.   0.   0.   0.   0.   0.   0.   0.   0.   0.\n",
            "   0.   0.   0.   0.   0.   0.   0.   0.   0.   0.   0.   0.   0.   0.\n",
            "   0.   0.   0.   0.   0.   0.   0.   0.   0.   0.   0.   0.   0.   0.\n",
            "   0.   0.   0.   0.   0.   0.   0.   0.   0.   0.   0.   0.   0.   0.\n",
            "   0.   0.   0.   0.   0.   0.   0.   0.   0.   0.   0.   0.   0.   0.\n",
            "   0.   0.   0.   0.   0.   0.   0.   0.   0.   0.   0.   0.   0.   0.\n",
            "   0.   0.   0.   0.   0.   0.   0.   0.   0.   0.   0.   0.   0.   0.\n",
            "   0.   0.   0.   0.   0.   0.   0.   0.   0.   0.   0.   0.   0.   0.\n",
            "   0.   0.   0.   0.   0.   0.   0.   0.   0.   0.   0.   0.   0.   0.\n",
            "   0.   0.   0.   0.   0.   0.  31.  40. 129. 234. 234. 159.   0.   0.\n",
            "   0.   0.   0.   0.   0.   0.   0.   0.   0.   0.   0.   0.   0.   0.\n",
            "   0.   0.   0.   0.  68. 150. 239. 254. 253. 253. 253. 215.   0.   0.\n",
            "   0.   0.   0.   0.   0.   0.   0.   0.   0.   0.   0.   0.   0.   0.\n",
            "   0.   0. 156. 201. 254. 254. 254. 241. 150.  98.   8.   0.   0.   0.\n",
            "   0.   0.   0.   0.   0.   0.   0.   0.   0.   0.   0.   0.   0.   0.\n",
            "  19. 154. 254. 236. 203.  83.  39.  30.   0.   0.   0.   0.   0.   0.\n",
            "   0.   0.   0.   0.   0.   0.   0.   0.   0.   0.   0.   0.   0.   0.\n",
            " 144. 253. 145.  12.   0.   0.   0.   0.   0.   0.   0.   0.   0.   0.\n",
            "   0.   0.   0.   0.   0.   0.   0.   0.   0.   0.   0.  10. 129. 222.\n",
            "  78.  79.   8.   0.   0.   0.   0.   0.   0.   0.   0.   0.   0.   0.\n",
            "   0.   0.   0.   0.   0.   0.   0.   0.   0.   0.   0. 134. 253. 167.\n",
            "   8.   0.   0.   0.   0.   0.   0.   0.   0.   0.   0.   0.   0.   0.\n",
            "   0.   0.   0.   0.   0.   0.   0.   0.   0.   0.   0. 255. 254.  78.\n",
            "   0.   0.   0.   0.   0.   0.   0.   0.   0.   0.   0.   0.   0.   0.\n",
            "   0.   0.   0.   0.   0.   0.   0.   0.   0.   0.   0. 201. 253. 226.\n",
            "  69.   0.   0.   0.   0.   0.   0.   0.   0.   0.   0.   0.   0.   0.\n",
            "   0.   0.   0.   0.   0.   0.   0.   0.  55.   6.   0.  18. 128. 253.\n",
            " 241.  41.   0.   0.   0.   0.   0.   0.   0.   0.   0.   0.   0.   0.\n",
            "   0.   0.   0.   0.   0.   0.  25. 205. 235.  92.   0.   0.  20. 253.\n",
            " 253.  58.   0.   0.   0.   0.   0.   0.   0.   0.   0.   0.   0.   0.\n",
            "   0.   0.   0.   0.   0.   0. 231. 245. 108.   0.   0.   0. 132. 253.\n",
            " 185.  14.   0.   0.   0.   0.   0.   0.   0.   0.   0.   0.   0.   0.\n",
            "   0.   0.   0.   0.   0.   0. 121. 245. 254. 254. 254. 217. 254. 223.\n",
            "  50.   0.   0.   0.   0.   0.   0.   0.   0.   0.   0.   0.   0.   0.\n",
            "   0.   0.   0.   0.   0.   0.   0. 116. 165. 233. 233. 234. 180.  39.\n",
            "   3.   0.   0.   0.   0.   0.   0.   0.   0.   0.   0.   0.   0.   0.\n",
            "   0.   0.   0.   0.   0.   0.   0.   0.   0.   0.   0.   0.   0.   0.\n",
            "   0.   0.   0.   0.   0.   0.   0.   0.   0.   0.   0.   0.   0.   0.\n",
            "   0.   0.   0.   0.   0.   0.   0.   0.   0.   0.   0.   0.   0.   0.\n",
            "   0.   0.   0.   0.   0.   0.   0.   0.   0.   0.   0.   0.   0.   0.\n",
            "   0.   0.   0.   0.   0.   0.   0.   0.   0.   0.   0.   0.   0.   0.\n",
            "   0.   0.   0.   0.   0.   0.   0.   0.   0.   0.   0.   0.   0.   0.\n",
            "   0.   0.   0.   0.   0.   0.   0.   0.   0.   0.   0.   0.   0.   0.\n",
            "   0.   0.   0.   0.   0.   0.   0.   0.   0.   0.   0.   0.   0.   0.\n",
            "   0.   0.   0.   0.   0.   0.   0.   0.   0.   0.   0.   0.   0.   0.\n",
            "   0.   0.   0.   0.   0.   0.   0.   0.   0.   0.   0.   0.   0.   0.\n",
            "   0.   0.   0.   0.   0.   0.   0.   0.   0.   0.   0.   0.   0.   0.\n",
            "   0.   0.   0.   0.   0.   0.   0.   0.   0.   0.   0.   0.   0.   0.\n",
            "   0.   0.   0.   0.   0.   0.   0.   0.   0.   0.   0.   0.   0.   0.\n",
            "   0.   0.   0.   0.   0.   0.   0.   0.   0.   0.   0.   0.   0.   0.]\n"
          ],
          "name": "stdout"
        }
      ]
    },
    {
      "cell_type": "markdown",
      "metadata": {
        "id": "_tLGlmRySWiT"
      },
      "source": [
        "# How does  above array representing X[11] which is image of 5?"
      ]
    },
    {
      "cell_type": "code",
      "metadata": {
        "id": "b9IRniNdelHV",
        "colab": {
          "base_uri": "https://localhost:8080/",
          "height": 34
        },
        "outputId": "b736bf25-0946-45d4-9929-f816dee2fc35"
      },
      "source": [
        "# Predict using the model\n",
        "pred = sgd_clf.predict([X[19]])\n",
        "pred[0]"
      ],
      "execution_count": null,
      "outputs": [
        {
          "output_type": "execute_result",
          "data": {
            "text/plain": [
              "False"
            ]
          },
          "metadata": {
            "tags": []
          },
          "execution_count": 87
        }
      ]
    },
    {
      "cell_type": "markdown",
      "metadata": {
        "id": "Ojs9BVsBPtpO"
      },
      "source": [
        "# Use Cross Validation Technique"
      ]
    },
    {
      "cell_type": "code",
      "metadata": {
        "id": "0cn2-SLZelHX",
        "colab": {
          "base_uri": "https://localhost:8080/",
          "height": 34
        },
        "outputId": "7e21f914-8c10-40db-85e8-95ee5a6a5e20"
      },
      "source": [
        "from sklearn.model_selection import cross_val_score\n",
        "\n",
        "# Fit the model with CS=3\n",
        "cross_val_score(sgd_clf, X_train, y_train_5, cv=3, scoring=\"accuracy\")"
      ],
      "execution_count": null,
      "outputs": [
        {
          "output_type": "execute_result",
          "data": {
            "text/plain": [
              "array([0.93292977, 0.95709005, 0.95146255])"
            ]
          },
          "metadata": {
            "tags": []
          },
          "execution_count": 88
        }
      ]
    },
    {
      "cell_type": "code",
      "metadata": {
        "id": "RVaTcl9_elHa",
        "colab": {
          "base_uri": "https://localhost:8080/",
          "height": 122
        },
        "outputId": "eee68527-10ad-43fd-a57b-00e26568db40"
      },
      "source": [
        "#Above cell mimics below logic. As you see the results are the same. This cell is just for your self-study. Using previous cell is good enough in practice\n",
        "from sklearn.model_selection import StratifiedKFold\n",
        "from sklearn.base import clone\n",
        "\n",
        "skfolds = StratifiedKFold(n_splits=3, random_state=42)\n",
        "\n",
        "for train_index, test_index in skfolds.split(X_train, y_train_5):\n",
        "    clone_clf = clone(sgd_clf)\n",
        "    X_train_folds = X_train[train_index]\n",
        "    y_train_folds = (y_train_5[train_index])\n",
        "    X_test_fold = X_train[test_index]\n",
        "    y_test_fold = (y_train_5[test_index])\n",
        "\n",
        "    clone_clf.fit(X_train_folds, y_train_folds)\n",
        "    y_pred = clone_clf.predict(X_test_fold)\n",
        "    n_correct = sum(y_pred == y_test_fold)\n",
        "    print(n_correct / len(y_pred))"
      ],
      "execution_count": null,
      "outputs": [
        {
          "output_type": "stream",
          "text": [
            "/usr/local/lib/python3.6/dist-packages/sklearn/model_selection/_split.py:296: FutureWarning: Setting a random_state has no effect since shuffle is False. This will raise an error in 0.24. You should leave random_state to its default (None), or set shuffle=True.\n",
            "  FutureWarning\n"
          ],
          "name": "stderr"
        },
        {
          "output_type": "stream",
          "text": [
            "0.9329297691112659\n",
            "0.9570900519633578\n",
            "0.9514625522340083\n"
          ],
          "name": "stdout"
        }
      ]
    },
    {
      "cell_type": "code",
      "metadata": {
        "id": "k1JAC8qOelHd"
      },
      "source": [
        "#BaseEstimator is when there is no model!\n",
        "from sklearn.base import BaseEstimator\n",
        "class Never5Classifier(BaseEstimator):\n",
        "    def fit(self, X, y=None):\n",
        "        pass\n",
        "    def predict(self, X):\n",
        "        return np.zeros((len(X), 1), dtype=bool)"
      ],
      "execution_count": null,
      "outputs": []
    },
    {
      "cell_type": "code",
      "metadata": {
        "id": "PfvfSwnuelHf",
        "colab": {
          "base_uri": "https://localhost:8080/",
          "height": 34
        },
        "outputId": "ae015bea-999e-4a91-9ac0-9c9cbfe614b8"
      },
      "source": [
        "\n",
        "never_5_clf = Never5Classifier()\n",
        "cross_val_score(never_5_clf, X_train, y_train_5, cv=3, scoring=\"accuracy\")"
      ],
      "execution_count": null,
      "outputs": [
        {
          "output_type": "execute_result",
          "data": {
            "text/plain": [
              "array([0.90957304, 0.90962661, 0.91122897])"
            ]
          },
          "metadata": {
            "tags": []
          },
          "execution_count": 91
        }
      ]
    },
    {
      "cell_type": "markdown",
      "metadata": {
        "id": "qcvFj0dQsRo5"
      },
      "source": [
        "## As you see accuracy of base model is 90%! \n",
        "\n",
        "Can you explain it?"
      ]
    },
    {
      "cell_type": "code",
      "metadata": {
        "id": "iXiJRZLulje-",
        "colab": {
          "base_uri": "https://localhost:8080/",
          "height": 34
        },
        "outputId": "e7da2e32-ac08-40e1-a5f4-56d7b3cb62e8"
      },
      "source": [
        "# Look at number of times 5 is repeated in the dataset!\n",
        "import numpy as np\n",
        "\n",
        "np.unique(y_train_5, return_counts=True)\n",
        "\n",
        "# As expected, 5 is repeated only 10% of the times. So, even if we never detect it, stil we will have 90% accuracy!\n"
      ],
      "execution_count": null,
      "outputs": [
        {
          "output_type": "execute_result",
          "data": {
            "text/plain": [
              "(array([False,  True]), array([50934,  5066]))"
            ]
          },
          "metadata": {
            "tags": []
          },
          "execution_count": 22
        }
      ]
    },
    {
      "cell_type": "code",
      "metadata": {
        "id": "4Tj5EXuHlWiE",
        "colab": {
          "base_uri": "https://localhost:8080/",
          "height": 34
        },
        "outputId": "8dafe94d-631b-4c69-b1d0-c2648fc4af87"
      },
      "source": [
        "np.unique(never_5_clf.predict(X_train), return_counts = True)"
      ],
      "execution_count": null,
      "outputs": [
        {
          "output_type": "execute_result",
          "data": {
            "text/plain": [
              "(array([False]), array([56000]))"
            ]
          },
          "metadata": {
            "tags": []
          },
          "execution_count": 23
        }
      ]
    },
    {
      "cell_type": "code",
      "metadata": {
        "id": "yapwZfN5elHj"
      },
      "source": [
        "from sklearn.model_selection import cross_val_predict\n",
        "\n",
        "y_train_pred = cross_val_predict(sgd_clf, X_train, y_train_5, cv=3)"
      ],
      "execution_count": null,
      "outputs": []
    },
    {
      "cell_type": "markdown",
      "metadata": {
        "id": "E6MiRIj48gp-"
      },
      "source": [
        "#A food for your though:\n",
        "\n",
        "#### Look at below evaluation results (confusion matrix, Precision and Recall values) and record them in your book. Then change the value of cv in above cell. Either increase or decrese cv and calculate precision and recall again. What do you observe?\n",
        "\n",
        "#### Can you explain it?"
      ]
    },
    {
      "cell_type": "code",
      "metadata": {
        "id": "W8m3_m7ielHm",
        "colab": {
          "base_uri": "https://localhost:8080/",
          "height": 51
        },
        "outputId": "064ca913-b566-486d-f1d6-5e1f4808829d"
      },
      "source": [
        "from sklearn.metrics import confusion_matrix\n",
        "\n",
        "confusion_matrix(y_train_5, y_train_pred)\n",
        "# Rows are model predictions (0,1)\n",
        "# Cols are actual y (0,1)"
      ],
      "execution_count": null,
      "outputs": [
        {
          "output_type": "execute_result",
          "data": {
            "text/plain": [
              "array([[48811,  2123],\n",
              "       [ 1056,  4010]])"
            ]
          },
          "metadata": {
            "tags": []
          },
          "execution_count": 25
        }
      ]
    },
    {
      "cell_type": "code",
      "metadata": {
        "id": "EXUMMPPXelHn"
      },
      "source": [
        "y_train_perfect_predictions = y_train_5"
      ],
      "execution_count": null,
      "outputs": []
    },
    {
      "cell_type": "markdown",
      "metadata": {
        "id": "aXiPSNZa0U7Q"
      },
      "source": [
        "# Too good to believe model!!!"
      ]
    },
    {
      "cell_type": "code",
      "metadata": {
        "id": "gkczIKQEelHq",
        "colab": {
          "base_uri": "https://localhost:8080/"
        },
        "outputId": "161494e0-8359-4f33-f12e-df7e2f3b2d02"
      },
      "source": [
        "confusion_matrix(y_train_perfect_predictions,y_train_5)"
      ],
      "execution_count": null,
      "outputs": [
        {
          "output_type": "execute_result",
          "data": {
            "text/plain": [
              "array([[50934,     0],\n",
              "       [    0,  5066]])"
            ]
          },
          "metadata": {
            "tags": []
          },
          "execution_count": 27
        }
      ]
    },
    {
      "cell_type": "markdown",
      "metadata": {
        "id": "p-0rop3R1aYm"
      },
      "source": [
        "# Precision of our SGD model!"
      ]
    },
    {
      "cell_type": "code",
      "metadata": {
        "id": "taW48oHselHt",
        "colab": {
          "base_uri": "https://localhost:8080/"
        },
        "outputId": "9c7e80ae-0441-4ccf-f568-47e6d62c64b1"
      },
      "source": [
        "from sklearn.metrics import precision_score, recall_score\n",
        "\n",
        "precision_score(y_train_5, y_train_pred)\n",
        "\n",
        "#2995/(2995+291)"
      ],
      "execution_count": null,
      "outputs": [
        {
          "output_type": "execute_result",
          "data": {
            "text/plain": [
              "0.6538398826023153"
            ]
          },
          "metadata": {
            "tags": []
          },
          "execution_count": 28
        }
      ]
    },
    {
      "cell_type": "markdown",
      "metadata": {
        "id": "kZIPoibm1dgk"
      },
      "source": [
        "#  Recall of our SGD model"
      ]
    },
    {
      "cell_type": "code",
      "metadata": {
        "id": "AfRIa7jkelHz",
        "colab": {
          "base_uri": "https://localhost:8080/"
        },
        "outputId": "b2e07e0c-f9e6-4d04-8318-5df3ac8671dc"
      },
      "source": [
        "recall_score(y_train_5, y_train_pred)\n",
        "\n",
        "#2995/(2995+2045)"
      ],
      "execution_count": null,
      "outputs": [
        {
          "output_type": "execute_result",
          "data": {
            "text/plain": [
              "0.7915515199368338"
            ]
          },
          "metadata": {
            "tags": []
          },
          "execution_count": 29
        }
      ]
    },
    {
      "cell_type": "markdown",
      "metadata": {
        "id": "bbQVktKM1ga0"
      },
      "source": [
        "# F1 score of our model"
      ]
    },
    {
      "cell_type": "code",
      "metadata": {
        "id": "GOJy3vPqelH5",
        "colab": {
          "base_uri": "https://localhost:8080/"
        },
        "outputId": "d5826384-38dd-4a5a-e590-f1bb3812cf06"
      },
      "source": [
        "from sklearn.metrics import f1_score\n",
        "f1_score(y_train_5, y_train_pred)\n",
        "\n",
        "# As you see, F1 score penalizes 91% compared to 59% recall"
      ],
      "execution_count": null,
      "outputs": [
        {
          "output_type": "execute_result",
          "data": {
            "text/plain": [
              "0.7161353692293955"
            ]
          },
          "metadata": {
            "tags": []
          },
          "execution_count": 30
        }
      ]
    },
    {
      "cell_type": "markdown",
      "metadata": {
        "id": "pwm_qIKF1u_r"
      },
      "source": [
        "#What is best Precision Recall Ratio?"
      ]
    },
    {
      "cell_type": "code",
      "metadata": {
        "id": "gveM2XkCelH9",
        "colab": {
          "base_uri": "https://localhost:8080/"
        },
        "outputId": "7611f5cc-6d8d-45f6-a5b3-7686b1cfa595"
      },
      "source": [
        "# \n",
        "y_scores = sgd_clf.decision_function([some_digit])\n",
        "y_scores"
      ],
      "execution_count": null,
      "outputs": [
        {
          "output_type": "execute_result",
          "data": {
            "text/plain": [
              "array([-525135.18677283])"
            ]
          },
          "metadata": {
            "tags": []
          },
          "execution_count": 31
        }
      ]
    },
    {
      "cell_type": "code",
      "metadata": {
        "id": "tAOK6AAtelIA"
      },
      "source": [
        "threshold = 0\n",
        "y_some_digit_pred = (y_scores > threshold)"
      ],
      "execution_count": null,
      "outputs": []
    },
    {
      "cell_type": "code",
      "metadata": {
        "id": "2489GhbrelIC",
        "colab": {
          "base_uri": "https://localhost:8080/"
        },
        "outputId": "f67e09fa-68ba-4c1d-b4ef-465f93f7d934"
      },
      "source": [
        "y_some_digit_pred"
      ],
      "execution_count": null,
      "outputs": [
        {
          "output_type": "execute_result",
          "data": {
            "text/plain": [
              "array([False])"
            ]
          },
          "metadata": {
            "tags": []
          },
          "execution_count": 33
        }
      ]
    },
    {
      "cell_type": "code",
      "metadata": {
        "id": "P7XtfF01elIF",
        "colab": {
          "base_uri": "https://localhost:8080/"
        },
        "outputId": "1c9c9317-4131-4134-ab67-8ec264e01da5"
      },
      "source": [
        "threshold = 200000\n",
        "y_some_digit_pred = (y_scores > threshold)\n",
        "y_some_digit_pred"
      ],
      "execution_count": null,
      "outputs": [
        {
          "output_type": "execute_result",
          "data": {
            "text/plain": [
              "array([False])"
            ]
          },
          "metadata": {
            "tags": []
          },
          "execution_count": 34
        }
      ]
    },
    {
      "cell_type": "code",
      "metadata": {
        "id": "Me9lkVX_elIL"
      },
      "source": [
        "y_scores = cross_val_predict(sgd_clf, X_train, y_train_5, cv=3,\n",
        "                             method=\"decision_function\")"
      ],
      "execution_count": null,
      "outputs": []
    },
    {
      "cell_type": "code",
      "metadata": {
        "id": "LCuUMFz_2otO",
        "colab": {
          "base_uri": "https://localhost:8080/"
        },
        "outputId": "6aea8dc0-3a86-4803-b2b9-0c774917620c"
      },
      "source": [
        "y_scores_ = sgd_clf.decision_function(X_train)\n",
        "y_scores_"
      ],
      "execution_count": null,
      "outputs": [
        {
          "output_type": "execute_result",
          "data": {
            "text/plain": [
              "array([-623415.8568108 , -405009.17208951, -570678.80080705, ...,\n",
              "         96817.31127873, -278838.61632242, -230012.60626545])"
            ]
          },
          "metadata": {
            "tags": []
          },
          "execution_count": 36
        }
      ]
    },
    {
      "cell_type": "markdown",
      "metadata": {
        "id": "au0uXULmelIN"
      },
      "source": [
        "Note: there was an [issue](https://github.com/scikit-learn/scikit-learn/issues/9589) in Scikit-Learn 0.19.0 (fixed in 0.19.1) where the result of `cross_val_predict()` was incorrect in the binary classification case when using `method=\"decision_function\"`, as in the code above. The resulting array had an extra first dimension full of 0s. Just in case you are using 0.19.0, we need to add this small hack to work around this issue:"
      ]
    },
    {
      "cell_type": "code",
      "metadata": {
        "id": "wBsCE-pselIN",
        "colab": {
          "base_uri": "https://localhost:8080/"
        },
        "outputId": "49b69aa2-d190-4b43-a48c-8d045db86d13"
      },
      "source": [
        "y_scores.shape"
      ],
      "execution_count": null,
      "outputs": [
        {
          "output_type": "execute_result",
          "data": {
            "text/plain": [
              "(56000,)"
            ]
          },
          "metadata": {
            "tags": []
          },
          "execution_count": 37
        }
      ]
    },
    {
      "cell_type": "code",
      "metadata": {
        "id": "j6WXVjiOelIP"
      },
      "source": [
        "# hack to work around issue #9589 in Scikit-Learn 0.19.0\n",
        "if y_scores.ndim == 2:\n",
        "    y_scores = y_scores[:, 1]"
      ],
      "execution_count": null,
      "outputs": []
    },
    {
      "cell_type": "markdown",
      "metadata": {
        "id": "7q9XobEU2Rw_"
      },
      "source": [
        "# Plot Precision/Recall Curve"
      ]
    },
    {
      "cell_type": "code",
      "metadata": {
        "id": "EUheNAdmelIR"
      },
      "source": [
        "from sklearn.metrics import precision_recall_curve\n",
        "\n",
        "precisions, recalls, thresholds = precision_recall_curve(y_train_5, y_scores)"
      ],
      "execution_count": null,
      "outputs": []
    },
    {
      "cell_type": "code",
      "metadata": {
        "id": "MMKtVSuGelIT",
        "colab": {
          "base_uri": "https://localhost:8080/"
        },
        "outputId": "e54b53b6-9802-48cd-9bb7-3ead9d51047e"
      },
      "source": [
        "def plot_precision_recall_vs_threshold(precisions, recalls, thresholds):\n",
        "    plt.plot(thresholds, precisions[:-1], \"b--\", label=\"Precision\", linewidth=2)\n",
        "    plt.plot(thresholds, recalls[:-1], \"g-\", label=\"Recall\", linewidth=2)\n",
        "    plt.xlabel(\"Threshold\", fontsize=16)\n",
        "    plt.legend(loc=\"upper left\", fontsize=16)\n",
        "    plt.ylim([0, 1])\n",
        "\n",
        "plt.figure(figsize=(8, 4))\n",
        "plot_precision_recall_vs_threshold(precisions, recalls, thresholds)\n",
        "plt.xlim([-700000, 700000])\n",
        "#save_fig(\"precision_recall_vs_threshold_plot\")\n",
        "plt.show()"
      ],
      "execution_count": null,
      "outputs": [
        {
          "output_type": "display_data",
          "data": {
            "image/png": "[encoded data removed]",
            "text/plain": [
              "<Figure size 576x288 with 1 Axes>"
            ]
          },
          "metadata": {
            "tags": [],
            "needs_background": "light"
          }
        }
      ]
    },
    {
      "cell_type": "code",
      "metadata": {
        "id": "mr4KxfqzelIX",
        "colab": {
          "base_uri": "https://localhost:8080/"
        },
        "outputId": "eabb4d5f-d304-4e29-c23c-a87a0b81d87d"
      },
      "source": [
        "(y_train_pred == (y_scores > 0)).all()"
      ],
      "execution_count": null,
      "outputs": [
        {
          "output_type": "execute_result",
          "data": {
            "text/plain": [
              "True"
            ]
          },
          "metadata": {
            "tags": []
          },
          "execution_count": 41
        }
      ]
    },
    {
      "cell_type": "code",
      "metadata": {
        "id": "trUNTeCCelIb"
      },
      "source": [
        "y_train_pred_90 = (y_scores > 70000)"
      ],
      "execution_count": null,
      "outputs": []
    },
    {
      "cell_type": "code",
      "metadata": {
        "id": "-7RK5CjNelIc",
        "colab": {
          "base_uri": "https://localhost:8080/"
        },
        "outputId": "0e3a9055-16b9-477c-9d2a-f63b5348afd4"
      },
      "source": [
        "precision_score(y_train_5, y_train_pred_90)"
      ],
      "execution_count": null,
      "outputs": [
        {
          "output_type": "execute_result",
          "data": {
            "text/plain": [
              "0.7674825174825175"
            ]
          },
          "metadata": {
            "tags": []
          },
          "execution_count": 43
        }
      ]
    },
    {
      "cell_type": "code",
      "metadata": {
        "id": "xc5bFhfdelIf",
        "colab": {
          "base_uri": "https://localhost:8080/"
        },
        "outputId": "d15f4c75-69df-429b-fd1b-edc9f3b1bb96"
      },
      "source": [
        "recall_score(y_train_5, y_train_pred_90)"
      ],
      "execution_count": null,
      "outputs": [
        {
          "output_type": "execute_result",
          "data": {
            "text/plain": [
              "0.693249111725227"
            ]
          },
          "metadata": {
            "tags": []
          },
          "execution_count": 44
        }
      ]
    },
    {
      "cell_type": "code",
      "metadata": {
        "id": "Tfqpm0YyelIh",
        "colab": {
          "base_uri": "https://localhost:8080/"
        },
        "outputId": "59c1daec-bb6f-47ec-a071-db8d060ec52d"
      },
      "source": [
        "def plot_precision_vs_recall(precisions, recalls):\n",
        "    plt.plot(recalls, precisions, \"b-\", linewidth=2)\n",
        "    plt.xlabel(\"Recall\", fontsize=16)\n",
        "    plt.ylabel(\"Precision\", fontsize=16)\n",
        "    plt.axis([0, 1, 0, 1])\n",
        "\n",
        "plt.figure(figsize=(8, 6))\n",
        "plot_precision_vs_recall(precisions, recalls)\n",
        "#save_fig(\"precision_vs_recall_plot\")\n",
        "plt.show()"
      ],
      "execution_count": null,
      "outputs": [
        {
          "output_type": "display_data",
          "data": {
            "image/png": "[encoded data removed]",
            "text/plain": [
              "<Figure size 576x432 with 1 Axes>"
            ]
          },
          "metadata": {
            "tags": [],
            "needs_background": "light"
          }
        }
      ]
    },
    {
      "cell_type": "markdown",
      "metadata": {
        "id": "2ExQNmdfelIj"
      },
      "source": [
        "# ROC curves"
      ]
    },
    {
      "cell_type": "code",
      "metadata": {
        "id": "CaIOH_3GelIk"
      },
      "source": [
        "from sklearn.metrics import roc_curve\n",
        "\n",
        "fpr, tpr, thresholds = roc_curve(y_train_5, y_scores)"
      ],
      "execution_count": null,
      "outputs": []
    },
    {
      "cell_type": "code",
      "metadata": {
        "id": "OUTYxWz6elIm",
        "colab": {
          "base_uri": "https://localhost:8080/"
        },
        "outputId": "3cce8c36-8f6f-4b73-934f-fbc14cf97a63"
      },
      "source": [
        "def plot_roc_curve(fpr, tpr, label=None):\n",
        "    plt.plot(fpr, tpr, linewidth=2, label=label)\n",
        "    plt.plot([0, 1], [0, 1], 'k--')\n",
        "    plt.axis([0, 1, 0, 1])\n",
        "    plt.xlabel('False Positive Rate', fontsize=16)\n",
        "    plt.ylabel('True Positive Rate', fontsize=16)\n",
        "\n",
        "plt.figure(figsize=(8, 6))\n",
        "plot_roc_curve(fpr, tpr)\n",
        "#save_fig(\"roc_curve_plot\")\n",
        "plt.show()"
      ],
      "execution_count": null,
      "outputs": [
        {
          "output_type": "display_data",
          "data": {
            "image/png": "[encoded data removed]",
            "text/plain": [
              "<Figure size 576x432 with 1 Axes>"
            ]
          },
          "metadata": {
            "tags": [],
            "needs_background": "light"
          }
        }
      ]
    },
    {
      "cell_type": "code",
      "metadata": {
        "id": "S8Mg8_9selIo",
        "colab": {
          "base_uri": "https://localhost:8080/"
        },
        "outputId": "e635ddda-fabf-4abd-d34f-a9c4c2445fa1"
      },
      "source": [
        "from sklearn.metrics import roc_auc_score\n",
        "\n",
        "roc_auc_score(y_train_5, y_scores)"
      ],
      "execution_count": null,
      "outputs": [
        {
          "output_type": "execute_result",
          "data": {
            "text/plain": [
              "0.9521943440394465"
            ]
          },
          "metadata": {
            "tags": []
          },
          "execution_count": 48
        }
      ]
    },
    {
      "cell_type": "markdown",
      "metadata": {
        "id": "u4bwYXGqelIs"
      },
      "source": [
        "**Note**: we set `n_estimators=10` to avoid a warning about the fact that its default value will be set to 100 in Scikit-Learn 0.22."
      ]
    },
    {
      "cell_type": "code",
      "metadata": {
        "id": "tPlF18PLelIs"
      },
      "source": [
        "from sklearn.ensemble import RandomForestClassifier\n",
        "forest_clf = RandomForestClassifier(n_estimators=10, random_state=42)\n",
        "y_probas_forest = cross_val_predict(forest_clf, X_train, y_train_5, cv=3,\n",
        "                                    method=\"predict_proba\")"
      ],
      "execution_count": null,
      "outputs": []
    },
    {
      "cell_type": "code",
      "metadata": {
        "id": "27pryXfKelIw"
      },
      "source": [
        "y_scores_forest = y_probas_forest[:, 1] # score = proba of positive class\n",
        "fpr_forest, tpr_forest, thresholds_forest = roc_curve(y_train_5,y_scores_forest)"
      ],
      "execution_count": null,
      "outputs": []
    },
    {
      "cell_type": "code",
      "metadata": {
        "id": "Fyzj2tS1elIw",
        "colab": {
          "base_uri": "https://localhost:8080/"
        },
        "outputId": "dda7c640-2044-442e-e46b-8eee3cc82c73"
      },
      "source": [
        "plt.figure(figsize=(8, 6))\n",
        "plt.plot(fpr, tpr, \"b:\", linewidth=2, label=\"SGD\")\n",
        "plot_roc_curve(fpr_forest, tpr_forest, \"Random Forest\")\n",
        "plt.legend(loc=\"lower right\", fontsize=16)\n",
        "#save_fig(\"roc_curve_comparison_plot\")\n",
        "plt.show()"
      ],
      "execution_count": null,
      "outputs": [
        {
          "output_type": "display_data",
          "data": {
            "image/png": "[encoded data removed]",
            "text/plain": [
              "<Figure size 576x432 with 1 Axes>"
            ]
          },
          "metadata": {
            "tags": [],
            "needs_background": "light"
          }
        }
      ]
    },
    {
      "cell_type": "code",
      "metadata": {
        "id": "TuG4yb0yelIz",
        "colab": {
          "base_uri": "https://localhost:8080/"
        },
        "outputId": "c57abc1b-5e4c-4f33-ac53-808f6fd01ab1"
      },
      "source": [
        "roc_auc_score(y_train_5, y_scores_forest)"
      ],
      "execution_count": null,
      "outputs": [
        {
          "output_type": "execute_result",
          "data": {
            "text/plain": [
              "0.9930783315088284"
            ]
          },
          "metadata": {
            "tags": []
          },
          "execution_count": 52
        }
      ]
    },
    {
      "cell_type": "code",
      "metadata": {
        "id": "-Hk1V2HselI0",
        "colab": {
          "base_uri": "https://localhost:8080/"
        },
        "outputId": "aac4ea9b-2923-40d4-aebf-6571aea774d3"
      },
      "source": [
        "y_train_pred_forest = cross_val_predict(forest_clf, X_train, y_train_5, cv=3)\n",
        "precision_score(y_train_5, y_train_pred_forest)"
      ],
      "execution_count": null,
      "outputs": [
        {
          "output_type": "execute_result",
          "data": {
            "text/plain": [
              "0.9853289162328442"
            ]
          },
          "metadata": {
            "tags": []
          },
          "execution_count": 53
        }
      ]
    },
    {
      "cell_type": "code",
      "metadata": {
        "id": "3AabNA0_elI2",
        "colab": {
          "base_uri": "https://localhost:8080/"
        },
        "outputId": "3177f31a-fd75-40d7-97a2-dd662d17463f"
      },
      "source": [
        "recall_score(y_train_5, y_train_pred_forest)"
      ],
      "execution_count": null,
      "outputs": [
        {
          "output_type": "execute_result",
          "data": {
            "text/plain": [
              "0.8219502566127121"
            ]
          },
          "metadata": {
            "tags": []
          },
          "execution_count": 54
        }
      ]
    },
    {
      "cell_type": "markdown",
      "metadata": {
        "id": "7s2eSzdJelI3"
      },
      "source": [
        "# Multiclass classification"
      ]
    },
    {
      "cell_type": "code",
      "metadata": {
        "id": "XC4y3k-3elI4",
        "colab": {
          "base_uri": "https://localhost:8080/"
        },
        "outputId": "ddee8540-f594-45b8-8dbc-ef98ef5e244d"
      },
      "source": [
        "sgd_clf.fit(X_train, y_train)\n",
        "sgd_clf.predict([some_digit])"
      ],
      "execution_count": null,
      "outputs": [
        {
          "output_type": "execute_result",
          "data": {
            "text/plain": [
              "array([2], dtype=int8)"
            ]
          },
          "metadata": {
            "tags": []
          },
          "execution_count": 55
        }
      ]
    },
    {
      "cell_type": "code",
      "metadata": {
        "id": "MfwAxuGbelI7",
        "colab": {
          "base_uri": "https://localhost:8080/"
        },
        "outputId": "7ab923f6-d1ce-4c24-8509-330558eb19fd"
      },
      "source": [
        "some_digit_scores = sgd_clf.decision_function([some_digit])\n",
        "some_digit_scores"
      ],
      "execution_count": null,
      "outputs": [
        {
          "output_type": "execute_result",
          "data": {
            "text/plain": [
              "array([[-570760.81765985, -408539.80172411,  248039.49012084,\n",
              "          15336.35631459, -965978.44674752, -710414.03693505,\n",
              "        -807318.14800066, -768258.2761868 , -272731.68169119,\n",
              "        -800059.81244626]])"
            ]
          },
          "metadata": {
            "tags": []
          },
          "execution_count": 56
        }
      ]
    },
    {
      "cell_type": "code",
      "metadata": {
        "id": "4QODnopNelI9",
        "colab": {
          "base_uri": "https://localhost:8080/"
        },
        "outputId": "c243f80c-7b55-4648-c66e-1aa8021d68e5"
      },
      "source": [
        "np.argmax(some_digit_scores)"
      ],
      "execution_count": null,
      "outputs": [
        {
          "output_type": "execute_result",
          "data": {
            "text/plain": [
              "2"
            ]
          },
          "metadata": {
            "tags": []
          },
          "execution_count": 57
        }
      ]
    },
    {
      "cell_type": "code",
      "metadata": {
        "id": "EQt_SAdlelI_",
        "colab": {
          "base_uri": "https://localhost:8080/"
        },
        "outputId": "d242b2e6-4ec5-49a0-8151-7159d0dc6d96"
      },
      "source": [
        "# Look at number of classes for target variable\n",
        "sgd_clf.classes_"
      ],
      "execution_count": null,
      "outputs": [
        {
          "output_type": "execute_result",
          "data": {
            "text/plain": [
              "array([0, 1, 2, 3, 4, 5, 6, 7, 8, 9], dtype=int8)"
            ]
          },
          "metadata": {
            "tags": []
          },
          "execution_count": 58
        }
      ]
    },
    {
      "cell_type": "code",
      "metadata": {
        "id": "tquBtKcVelJA",
        "colab": {
          "base_uri": "https://localhost:8080/"
        },
        "outputId": "4e2777d7-9140-4c6f-eb1f-23d406ac30df"
      },
      "source": [
        "sgd_clf.classes_[5]"
      ],
      "execution_count": null,
      "outputs": [
        {
          "output_type": "execute_result",
          "data": {
            "text/plain": [
              "5"
            ]
          },
          "metadata": {
            "tags": []
          },
          "execution_count": 59
        }
      ]
    },
    {
      "cell_type": "code",
      "metadata": {
        "id": "DD3nCR2lelJC",
        "colab": {
          "base_uri": "https://localhost:8080/"
        },
        "outputId": "13588042-3beb-41fb-bbeb-a38d0c13f8b4"
      },
      "source": [
        "from sklearn.multiclass import OneVsOneClassifier\n",
        "ovo_clf = OneVsOneClassifier(SGDClassifier(max_iter=5, tol=-np.infty, random_state=42))\n",
        "ovo_clf.fit(X_train, y_train)\n",
        "ovo_clf.predict([some_digit])"
      ],
      "execution_count": null,
      "outputs": [
        {
          "output_type": "execute_result",
          "data": {
            "text/plain": [
              "array([2], dtype=int8)"
            ]
          },
          "metadata": {
            "tags": []
          },
          "execution_count": 60
        }
      ]
    },
    {
      "cell_type": "code",
      "metadata": {
        "id": "RNKFLvrxelJE",
        "colab": {
          "base_uri": "https://localhost:8080/"
        },
        "outputId": "7bf0afc3-e670-4c67-c784-1aa0dc51bf8e"
      },
      "source": [
        "len(ovo_clf.estimators_)"
      ],
      "execution_count": null,
      "outputs": [
        {
          "output_type": "execute_result",
          "data": {
            "text/plain": [
              "45"
            ]
          },
          "metadata": {
            "tags": []
          },
          "execution_count": 61
        }
      ]
    },
    {
      "cell_type": "code",
      "metadata": {
        "id": "4ksYKTdeelJI",
        "colab": {
          "base_uri": "https://localhost:8080/"
        },
        "outputId": "05f8f247-b5ad-4e3b-eeec-7ba74fde0e0f"
      },
      "source": [
        "forest_clf.fit(X_train, y_train)\n",
        "forest_clf.predict([some_digit])"
      ],
      "execution_count": null,
      "outputs": [
        {
          "output_type": "execute_result",
          "data": {
            "text/plain": [
              "array([2], dtype=int8)"
            ]
          },
          "metadata": {
            "tags": []
          },
          "execution_count": 62
        }
      ]
    },
    {
      "cell_type": "code",
      "metadata": {
        "id": "eoopOtdgelJJ",
        "colab": {
          "base_uri": "https://localhost:8080/"
        },
        "outputId": "7f6767d2-2fe6-4bc4-f7b9-cb16eeee4d61"
      },
      "source": [
        "forest_clf.predict_proba([some_digit])"
      ],
      "execution_count": null,
      "outputs": [
        {
          "output_type": "execute_result",
          "data": {
            "text/plain": [
              "array([[0., 0., 1., 0., 0., 0., 0., 0., 0., 0.]])"
            ]
          },
          "metadata": {
            "tags": []
          },
          "execution_count": 63
        }
      ]
    },
    {
      "cell_type": "code",
      "metadata": {
        "id": "DDhh99FjelJM",
        "colab": {
          "base_uri": "https://localhost:8080/"
        },
        "outputId": "61cfd053-940f-4e7b-a7bc-71e378554d3f"
      },
      "source": [
        "cross_val_score(sgd_clf, X_train, y_train, cv=3, scoring=\"accuracy\")"
      ],
      "execution_count": null,
      "outputs": [
        {
          "output_type": "execute_result",
          "data": {
            "text/plain": [
              "array([0.87212728, 0.8695559 , 0.8924783 ])"
            ]
          },
          "metadata": {
            "tags": []
          },
          "execution_count": 64
        }
      ]
    },
    {
      "cell_type": "code",
      "metadata": {
        "id": "RaZwwlbGelJP",
        "colab": {
          "base_uri": "https://localhost:8080/"
        },
        "outputId": "78725ed7-80c9-4b4c-f084-5ab411876754"
      },
      "source": [
        "from sklearn.preprocessing import StandardScaler\n",
        "scaler = StandardScaler()\n",
        "X_train_scaled = scaler.fit_transform(X_train.astype(np.float64))\n",
        "cross_val_score(sgd_clf, X_train_scaled, y_train, cv=3, scoring=\"accuracy\")"
      ],
      "execution_count": null,
      "outputs": [
        {
          "output_type": "execute_result",
          "data": {
            "text/plain": [
              "array([0.90903734, 0.90764451, 0.911979  ])"
            ]
          },
          "metadata": {
            "tags": []
          },
          "execution_count": 65
        }
      ]
    },
    {
      "cell_type": "code",
      "metadata": {
        "id": "OT_-9qveelJR",
        "colab": {
          "base_uri": "https://localhost:8080/"
        },
        "outputId": "4dc9f61b-2f46-4b22-be4b-778854237b75"
      },
      "source": [
        "y_train_pred = cross_val_predict(sgd_clf, X_train_scaled, y_train, cv=3)\n",
        "conf_mx = confusion_matrix(y_train, y_train_pred)\n",
        "conf_mx"
      ],
      "execution_count": null,
      "outputs": [
        {
          "output_type": "execute_result",
          "data": {
            "text/plain": [
              "array([[5359,    2,   22,   11,   10,   43,   47,    9,   30,    2],\n",
              "       [   2, 6071,   47,   22,    4,   35,   10,    7,   92,   14],\n",
              "       [  51,   32, 5014,   90,   73,   24,   86,   64,  147,   13],\n",
              "       [  44,   26,  135, 5018,    2,  208,   32,   56,  121,   90],\n",
              "       [  15,   20,   38,   10, 4974,    7,   59,   32,   83,  205],\n",
              "       [  76,   37,   31,  170,   69, 4324,  100,   35,  138,   86],\n",
              "       [  34,   25,   43,    4,   41,   95, 5228,    4,   37,    1],\n",
              "       [  30,   18,   69,   26,   45,   10,    3, 5377,   18,  209],\n",
              "       [  56,  134,   72,  130,   14,  162,   57,   26, 4671,  130],\n",
              "       [  47,   24,   25,   77,  156,   35,    1,  215,   78, 4899]])"
            ]
          },
          "metadata": {
            "tags": []
          },
          "execution_count": 66
        }
      ]
    },
    {
      "cell_type": "code",
      "metadata": {
        "id": "wN7CcURwelJU"
      },
      "source": [
        "def plot_confusion_matrix(matrix):\n",
        "    \"\"\"If you prefer color and a colorbar\"\"\"\n",
        "    fig = plt.figure(figsize=(8,8))\n",
        "    ax = fig.add_subplot(111)\n",
        "    cax = ax.matshow(matrix)\n",
        "    fig.colorbar(cax)"
      ],
      "execution_count": null,
      "outputs": []
    },
    {
      "cell_type": "code",
      "metadata": {
        "id": "uMNzmLW0elJX",
        "colab": {
          "base_uri": "https://localhost:8080/"
        },
        "outputId": "3c7910aa-ec49-4d34-8f71-14e1697c0665"
      },
      "source": [
        "plt.matshow(conf_mx, cmap=plt.cm.gray)\n",
        "#save_fig(\"confusion_matrix_plot\", tight_layout=False)\n",
        "plt.show()"
      ],
      "execution_count": null,
      "outputs": [
        {
          "output_type": "display_data",
          "data": {
            "image/png": "[encoded data removed]",
            "text/plain": [
              "<Figure size 288x288 with 1 Axes>"
            ]
          },
          "metadata": {
            "tags": [],
            "needs_background": "light"
          }
        }
      ]
    },
    {
      "cell_type": "code",
      "metadata": {
        "id": "_Vtq08Z1elJa"
      },
      "source": [
        "row_sums = conf_mx.sum(axis=1, keepdims=True)\n",
        "norm_conf_mx = conf_mx / row_sums"
      ],
      "execution_count": null,
      "outputs": []
    },
    {
      "cell_type": "code",
      "metadata": {
        "id": "0bjcbfqfelJc",
        "colab": {
          "base_uri": "https://localhost:8080/"
        },
        "outputId": "9440f7d3-438a-49a0-f6ea-9d416691602b"
      },
      "source": [
        "np.fill_diagonal(norm_conf_mx, 0)\n",
        "plt.matshow(norm_conf_mx, cmap=plt.cm.gray)\n",
        "#save_fig(\"confusion_matrix_errors_plot\", tight_layout=False)\n",
        "plt.show()"
      ],
      "execution_count": null,
      "outputs": [
        {
          "output_type": "display_data",
          "data": {
            "image/png": "[encoded data removed]",
            "text/plain": [
              "<Figure size 288x288 with 1 Axes>"
            ]
          },
          "metadata": {
            "tags": [],
            "needs_background": "light"
          }
        }
      ]
    }
  ]
}